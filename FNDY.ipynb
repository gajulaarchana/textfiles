{
 "cells": [
  {
   "cell_type": "code",
   "execution_count": 1,
   "id": "8240827f",
   "metadata": {},
   "outputs": [],
   "source": [
    "import numpy as np\n",
    "import pandas as pd"
   ]
  },
  {
   "cell_type": "code",
   "execution_count": 2,
   "id": "2cd9331b",
   "metadata": {},
   "outputs": [
    {
     "data": {
      "text/html": [
       "<div>\n",
       "<style scoped>\n",
       "    .dataframe tbody tr th:only-of-type {\n",
       "        vertical-align: middle;\n",
       "    }\n",
       "\n",
       "    .dataframe tbody tr th {\n",
       "        vertical-align: top;\n",
       "    }\n",
       "\n",
       "    .dataframe thead th {\n",
       "        text-align: right;\n",
       "    }\n",
       "</style>\n",
       "<table border=\"1\" class=\"dataframe\">\n",
       "  <thead>\n",
       "    <tr style=\"text-align: right;\">\n",
       "      <th></th>\n",
       "      <th>FacilityName</th>\n",
       "      <th>FacilityAddress</th>\n",
       "      <th>Borough</th>\n",
       "    </tr>\n",
       "  </thead>\n",
       "  <tbody>\n",
       "    <tr>\n",
       "      <th>0</th>\n",
       "      <td>FacilityName</td>\n",
       "      <td>FacilityAddress</td>\n",
       "      <td>Borough</td>\n",
       "    </tr>\n",
       "    <tr>\n",
       "      <th>1</th>\n",
       "      <td>Engine 4/Ladder 15</td>\n",
       "      <td>42 South Street</td>\n",
       "      <td>Manhattan</td>\n",
       "    </tr>\n",
       "    <tr>\n",
       "      <th>2</th>\n",
       "      <td>Engine 10/Ladder 10</td>\n",
       "      <td>124 Liberty Street</td>\n",
       "      <td>Manhattan</td>\n",
       "    </tr>\n",
       "    <tr>\n",
       "      <th>3</th>\n",
       "      <td>Engine 6</td>\n",
       "      <td>49 Beekman Street</td>\n",
       "      <td>Manhattan</td>\n",
       "    </tr>\n",
       "    <tr>\n",
       "      <th>4</th>\n",
       "      <td>Engine 7/Ladder 1/Battalion 1/Manhattan Boroug...</td>\n",
       "      <td>100-104 Duane Street</td>\n",
       "      <td>Manhattan</td>\n",
       "    </tr>\n",
       "    <tr>\n",
       "      <th>...</th>\n",
       "      <td>...</td>\n",
       "      <td>...</td>\n",
       "      <td>...</td>\n",
       "    </tr>\n",
       "    <tr>\n",
       "      <th>214</th>\n",
       "      <td>Engine 162/Ladder 82/Battalion 23</td>\n",
       "      <td>256 Nelson Avenue</td>\n",
       "      <td>Staten Island</td>\n",
       "    </tr>\n",
       "    <tr>\n",
       "      <th>215</th>\n",
       "      <td>Engine 167/Ladder 87</td>\n",
       "      <td>345 Annadale Road</td>\n",
       "      <td>Staten Island</td>\n",
       "    </tr>\n",
       "    <tr>\n",
       "      <th>216</th>\n",
       "      <td>Engine 164/Ladder 84</td>\n",
       "      <td>1560 Drumgoole Road West</td>\n",
       "      <td>Staten Island</td>\n",
       "    </tr>\n",
       "    <tr>\n",
       "      <th>217</th>\n",
       "      <td>Engine 168/EMS Station 23</td>\n",
       "      <td>1100 Rossville Avenue</td>\n",
       "      <td>Staten Island</td>\n",
       "    </tr>\n",
       "    <tr>\n",
       "      <th>218</th>\n",
       "      <td>Engine 151/Ladder 76</td>\n",
       "      <td>7219 Amboy Road</td>\n",
       "      <td>Staten Island</td>\n",
       "    </tr>\n",
       "  </tbody>\n",
       "</table>\n",
       "<p>219 rows × 3 columns</p>\n",
       "</div>"
      ],
      "text/plain": [
       "                                          FacilityName  \\\n",
       "0                                         FacilityName   \n",
       "1                                   Engine 4/Ladder 15   \n",
       "2                                  Engine 10/Ladder 10   \n",
       "3                                             Engine 6   \n",
       "4    Engine 7/Ladder 1/Battalion 1/Manhattan Boroug...   \n",
       "..                                                 ...   \n",
       "214                  Engine 162/Ladder 82/Battalion 23   \n",
       "215                               Engine 167/Ladder 87   \n",
       "216                               Engine 164/Ladder 84   \n",
       "217                          Engine 168/EMS Station 23   \n",
       "218                               Engine 151/Ladder 76   \n",
       "\n",
       "              FacilityAddress        Borough  \n",
       "0             FacilityAddress        Borough  \n",
       "1             42 South Street      Manhattan  \n",
       "2          124 Liberty Street      Manhattan  \n",
       "3           49 Beekman Street      Manhattan  \n",
       "4        100-104 Duane Street      Manhattan  \n",
       "..                        ...            ...  \n",
       "214         256 Nelson Avenue  Staten Island  \n",
       "215         345 Annadale Road  Staten Island  \n",
       "216  1560 Drumgoole Road West  Staten Island  \n",
       "217     1100 Rossville Avenue  Staten Island  \n",
       "218           7219 Amboy Road  Staten Island  \n",
       "\n",
       "[219 rows x 3 columns]"
      ]
     },
     "execution_count": 2,
     "metadata": {},
     "output_type": "execute_result"
    }
   ],
   "source": [
    "df=pd.read_csv(\"C:/Users/vaishu/Documents/14.FDNY.csv\")\n",
    "df"
   ]
  },
  {
   "cell_type": "code",
   "execution_count": 3,
   "id": "700f47d0",
   "metadata": {},
   "outputs": [
    {
     "data": {
      "text/html": [
       "<div>\n",
       "<style scoped>\n",
       "    .dataframe tbody tr th:only-of-type {\n",
       "        vertical-align: middle;\n",
       "    }\n",
       "\n",
       "    .dataframe tbody tr th {\n",
       "        vertical-align: top;\n",
       "    }\n",
       "\n",
       "    .dataframe thead th {\n",
       "        text-align: right;\n",
       "    }\n",
       "</style>\n",
       "<table border=\"1\" class=\"dataframe\">\n",
       "  <thead>\n",
       "    <tr style=\"text-align: right;\">\n",
       "      <th></th>\n",
       "      <th>FacilityName</th>\n",
       "      <th>FacilityAddress</th>\n",
       "      <th>Borough</th>\n",
       "    </tr>\n",
       "  </thead>\n",
       "  <tbody>\n",
       "    <tr>\n",
       "      <th>0</th>\n",
       "      <td>FacilityName</td>\n",
       "      <td>FacilityAddress</td>\n",
       "      <td>Borough</td>\n",
       "    </tr>\n",
       "    <tr>\n",
       "      <th>1</th>\n",
       "      <td>Engine 4/Ladder 15</td>\n",
       "      <td>42 South Street</td>\n",
       "      <td>Manhattan</td>\n",
       "    </tr>\n",
       "    <tr>\n",
       "      <th>2</th>\n",
       "      <td>Engine 10/Ladder 10</td>\n",
       "      <td>124 Liberty Street</td>\n",
       "      <td>Manhattan</td>\n",
       "    </tr>\n",
       "    <tr>\n",
       "      <th>3</th>\n",
       "      <td>Engine 6</td>\n",
       "      <td>49 Beekman Street</td>\n",
       "      <td>Manhattan</td>\n",
       "    </tr>\n",
       "    <tr>\n",
       "      <th>4</th>\n",
       "      <td>Engine 7/Ladder 1/Battalion 1/Manhattan Boroug...</td>\n",
       "      <td>100-104 Duane Street</td>\n",
       "      <td>Manhattan</td>\n",
       "    </tr>\n",
       "  </tbody>\n",
       "</table>\n",
       "</div>"
      ],
      "text/plain": [
       "                                        FacilityName       FacilityAddress  \\\n",
       "0                                       FacilityName       FacilityAddress   \n",
       "1                                 Engine 4/Ladder 15       42 South Street   \n",
       "2                                Engine 10/Ladder 10    124 Liberty Street   \n",
       "3                                           Engine 6     49 Beekman Street   \n",
       "4  Engine 7/Ladder 1/Battalion 1/Manhattan Boroug...  100-104 Duane Street   \n",
       "\n",
       "     Borough  \n",
       "0    Borough  \n",
       "1  Manhattan  \n",
       "2  Manhattan  \n",
       "3  Manhattan  \n",
       "4  Manhattan  "
      ]
     },
     "execution_count": 3,
     "metadata": {},
     "output_type": "execute_result"
    }
   ],
   "source": [
    "df.head()"
   ]
  },
  {
   "cell_type": "code",
   "execution_count": 4,
   "id": "fd237201",
   "metadata": {},
   "outputs": [
    {
     "name": "stdout",
     "output_type": "stream",
     "text": [
      "            FacilityName              FacilityAddress        Borough\n",
      "0  Engine 233/Ladder 176           25 Rockaway Avenue       Brooklyn\n",
      "1               Marine 9  Saint George Ferry Terminal  Staten Island\n"
     ]
    }
   ],
   "source": [
    "df=pd.read_csv(\"C:/Users/vaishu/Documents/14.FDNY.csv\")\n",
    "df = pd.read_csv(\"C:/Users/vaishu/Documents/14.FDNY.csv\", skiprows=lambda x: x % 100 != 0)\n",
    "print(df)"
   ]
  },
  {
   "cell_type": "code",
   "execution_count": 5,
   "id": "915c8ba1",
   "metadata": {},
   "outputs": [
    {
     "name": "stdout",
     "output_type": "stream",
     "text": [
      "                 FacilityName     FacilityAddress   Borough\n",
      "count                       2                   2         2\n",
      "unique                      2                   2         2\n",
      "top     Engine 233/Ladder 176  25 Rockaway Avenue  Brooklyn\n",
      "freq                        1                   1         1\n"
     ]
    }
   ],
   "source": [
    "statistics = df.describe()\n",
    "print(statistics)"
   ]
  },
  {
   "cell_type": "code",
   "execution_count": 6,
   "id": "905926e6",
   "metadata": {},
   "outputs": [
    {
     "data": {
      "text/plain": [
       "Index(['FacilityName', 'FacilityAddress', 'Borough'], dtype='object')"
      ]
     },
     "execution_count": 6,
     "metadata": {},
     "output_type": "execute_result"
    }
   ],
   "source": [
    "df.columns"
   ]
  },
  {
   "cell_type": "code",
   "execution_count": 7,
   "id": "9f9c8e29",
   "metadata": {},
   "outputs": [
    {
     "name": "stdout",
     "output_type": "stream",
     "text": [
      "Total number of fire department facilities in New York City: 0\n"
     ]
    }
   ],
   "source": [
    "fire_department_facilities=df[df['FacilityAddress']=='New York']\n",
    "total_fire_department_facilities=fire_department_facilities['FacilityName'].nunique()\n",
    "print(\"Total number of fire department facilities in New York City:\",total_fire_department_facilities)\n",
    "                              "
   ]
  },
  {
   "cell_type": "code",
   "execution_count": 8,
   "id": "3e279331",
   "metadata": {},
   "outputs": [
    {
     "name": "stdout",
     "output_type": "stream",
     "text": [
      "Attribute: FacilityName, count:2\n",
      "Attribute: FacilityAddress, count:2\n",
      "Attribute: Borough, count:2\n"
     ]
    }
   ],
   "source": [
    "record_counts=df.count()\n",
    "for column_name,count in record_counts.items():\n",
    "    print(f\"Attribute: {column_name}, count:{count}\")"
   ]
  },
  {
   "cell_type": "code",
   "execution_count": 9,
   "id": "e0133046",
   "metadata": {},
   "outputs": [
    {
     "name": "stdout",
     "output_type": "stream",
     "text": [
      "FacilityName       object\n",
      "FacilityAddress    object\n",
      "Borough            object\n",
      "dtype: object\n"
     ]
    }
   ],
   "source": [
    "data_type=df.dtypes\n",
    "print(data_type)"
   ]
  },
  {
   "cell_type": "code",
   "execution_count": 10,
   "id": "194c032f",
   "metadata": {},
   "outputs": [
    {
     "name": "stdout",
     "output_type": "stream",
     "text": [
      "Total number of fire department facilities in each borough:\n",
      "Borough\n",
      "Brooklyn         1\n",
      "Staten Island    1\n",
      "Name: FacilityName, dtype: int64\n"
     ]
    }
   ],
   "source": [
    "borough_facility_counts=df.groupby('Borough')['FacilityName'].nunique()\n",
    "print(\"Total number of fire department facilities in each borough:\")\n",
    "print(borough_facility_counts)"
   ]
  },
  {
   "cell_type": "code",
   "execution_count": 11,
   "id": "cc02d237",
   "metadata": {},
   "outputs": [
    {
     "name": "stdout",
     "output_type": "stream",
     "text": [
      "FNDY Information for Brooklyn Borough:\n",
      "            FacilityName     FacilityAddress   Borough\n",
      "0  Engine 233/Ladder 176  25 Rockaway Avenue  Brooklyn\n",
      "\n",
      "\n",
      "FNDY Information for Staten Island Borough:\n",
      "  FacilityName              FacilityAddress        Borough\n",
      "1     Marine 9  Saint George Ferry Terminal  Staten Island\n",
      "\n",
      "\n"
     ]
    }
   ],
   "source": [
    "for borough,group in df.groupby('Borough'):\n",
    "    print(f\"FNDY Information for {borough} Borough:\")\n",
    "    print(group)\n",
    "    print(\"\\n\")"
   ]
  },
  {
   "cell_type": "code",
   "execution_count": 16,
   "id": "444fe524",
   "metadata": {},
   "outputs": [
    {
     "name": "stdout",
     "output_type": "stream",
     "text": [
      "Total number of fire department facilities in Manhattan: 0\n"
     ]
    }
   ],
   "source": [
    "manhattan_facilities = df[df['Borough'] == 'Manhattan']\n",
    "total_manhattan_facilities = manhattan_facilities['FacilityName'].nunique()\n",
    "print(\"Total number of fire department facilities in Manhattan:\", total_manhattan_facilities)"
   ]
  },
  {
   "cell_type": "code",
   "execution_count": 29,
   "id": "783cb9c4",
   "metadata": {},
   "outputs": [
    {
     "name": "stdout",
     "output_type": "stream",
     "text": [
      "FNDY Information for Brooklyn Borough:\n",
      "            FacilityName     FacilityAddress   Borough\n",
      "0  Engine 233/Ladder 176  25 Rockaway Avenue  Brooklyn\n",
      "\n",
      "\n",
      "FNDY Information for Staten Island Borough:\n",
      "  FacilityName              FacilityAddress        Borough\n",
      "1     Marine 9  Saint George Ferry Terminal  Staten Island\n",
      "\n",
      "\n"
     ]
    }
   ],
   "source": [
    "for Manhattan,group in df.groupby('Borough'):\n",
    "    print(f\"FNDY Information for {Manhattan} Borough:\")\n",
    "    print(group)\n",
    "    print(\"\\n\")\n",
    "    "
   ]
  },
  {
   "cell_type": "code",
   "execution_count": 30,
   "id": "4b222d00",
   "metadata": {},
   "outputs": [
    {
     "name": "stdout",
     "output_type": "stream",
     "text": [
      "FDNY Information for Facilities in Brooklyn:\n",
      "            FacilityName     FacilityAddress   Borough\n",
      "0  Engine 233/Ladder 176  25 Rockaway Avenue  Brooklyn\n",
      "\n",
      "\n",
      "FDNY Information for Facilities in Staten Island:\n",
      "  FacilityName              FacilityAddress        Borough\n",
      "1     Marine 9  Saint George Ferry Terminal  Staten Island\n",
      "\n",
      "\n"
     ]
    }
   ],
   "source": [
    "unique_boroughs = df['Borough'].unique()\n",
    "for borough in unique_boroughs:\n",
    "    borough_facilities = df[df['Borough'] == borough]\n",
    "    \n",
    "    print(f\"FDNY Information for Facilities in {borough}:\")\n",
    "    print(borough_facilities[['FacilityName', 'FacilityAddress', 'Borough']])\n",
    "    print(\"\\n\")"
   ]
  },
  {
   "cell_type": "code",
   "execution_count": 35,
   "id": "7787df44",
   "metadata": {},
   "outputs": [
    {
     "name": "stdout",
     "output_type": "stream",
     "text": [
      "['Brooklyn' 'Staten Island']\n",
      "Empty DataFrame\n",
      "Columns: [FacilityName, FacilityAddress, Borough]\n",
      "Index: []\n"
     ]
    }
   ],
   "source": [
    "manhattan_facilities = df[df['Borough'].str.strip().str.lower() == 'manhattan']\n",
    "df['Borough'] = df['Borough'].str.strip()\n",
    "unique_boroughs = df['Borough'].unique()\n",
    "print(unique_boroughs)\n",
    "manhattan_data = df[df['Borough'] == 'Manhattan']\n",
    "print(manhattan_data)\n",
    "\n",
    "\n",
    "\n",
    "\n"
   ]
  },
  {
   "cell_type": "code",
   "execution_count": null,
   "id": "b6b583f8",
   "metadata": {},
   "outputs": [],
   "source": []
  }
 ],
 "metadata": {
  "kernelspec": {
   "display_name": "Python 3 (ipykernel)",
   "language": "python",
   "name": "python3"
  },
  "language_info": {
   "codemirror_mode": {
    "name": "ipython",
    "version": 3
   },
   "file_extension": ".py",
   "mimetype": "text/x-python",
   "name": "python",
   "nbconvert_exporter": "python",
   "pygments_lexer": "ipython3",
   "version": "3.11.4"
  }
 },
 "nbformat": 4,
 "nbformat_minor": 5
}
