{
 "cells": [
  {
   "cell_type": "code",
   "execution_count": 1,
   "id": "e67d9e19",
   "metadata": {},
   "outputs": [
    {
     "data": {
      "text/plain": [
       "'C:\\\\Users\\\\vaishu'"
      ]
     },
     "execution_count": 1,
     "metadata": {},
     "output_type": "execute_result"
    }
   ],
   "source": [
    "pwd"
   ]
  },
  {
   "cell_type": "code",
   "execution_count": 10,
   "id": "7e4571ed",
   "metadata": {},
   "outputs": [
    {
     "name": "stdout",
     "output_type": "stream",
     "text": [
      "f\n"
     ]
    }
   ],
   "source": []
  },
  {
   "cell_type": "code",
   "execution_count": 21,
   "id": "266b28d2",
   "metadata": {},
   "outputs": [],
   "source": []
  },
  {
   "cell_type": "code",
   "execution_count": 22,
   "id": "ab988cbf",
   "metadata": {},
   "outputs": [
    {
     "name": "stdout",
     "output_type": "stream",
     "text": [
      "f\n"
     ]
    }
   ],
   "source": [
    "f=open(r\"C:\\Users\\vaishu\\Documents/emp12.csv\",encoding='ISO-8859-1')\n",
    "print(\"f\")"
   ]
  },
  {
   "cell_type": "code",
   "execution_count": 23,
   "id": "9f6dd878",
   "metadata": {},
   "outputs": [
    {
     "name": "stdout",
     "output_type": "stream",
     "text": [
      "totalsalaryforSheethalis25000\n",
      "DA is6250.0\n",
      "TZ is3750.0\n",
      "HRA is4000.0\n",
      "CCA is5000.0\n",
      "MA is12500.0\n",
      "LIC is12500.0\n",
      "NetsalaryforSheethalis44000.0\n",
      "\n",
      "\n",
      "totalsalaryforSonuis28000\n",
      "DA is7000.0\n",
      "TZ is4200.0\n",
      "HRA is4480.0\n",
      "CCA is5600.0\n",
      "MA is14000.0\n",
      "LIC is14000.0\n",
      "NetsalaryforSonuis49280.0\n",
      "\n",
      "\n",
      "totalsalaryforSandeepis100000\n",
      "DA is25000.0\n",
      "TZ is15000.0\n",
      "HRA is16000.0\n",
      "CCA is20000.0\n",
      "MA is50000.0\n",
      "LIC is50000.0\n",
      "NetsalaryforSandeepis176000.0\n",
      "\n",
      "\n",
      "totalsalaryforManojis65000\n",
      "DA is16250.0\n",
      "TZ is9750.0\n",
      "HRA is10400.0\n",
      "CCA is13000.0\n",
      "MA is32500.0\n",
      "LIC is32500.0\n",
      "NetsalaryforManojis114400.0\n",
      "\n",
      "\n",
      "totalsalaryforPrasannais15000\n",
      "DA is3750.0\n",
      "TZ is2250.0\n",
      "HRA is2400.0\n",
      "CCA is3000.0\n",
      "MA is7500.0\n",
      "LIC is7500.0\n",
      "NetsalaryforPrasannais26400.0\n",
      "\n",
      "\n",
      "totalsalaryforPriyankais20000\n",
      "DA is5000.0\n",
      "TZ is3000.0\n",
      "HRA is3200.0\n",
      "CCA is4000.0\n",
      "MA is10000.0\n",
      "LIC is10000.0\n",
      "NetsalaryforPriyankais35200.0\n",
      "\n",
      "\n",
      "totalsalaryforShravanthiis28000\n",
      "DA is7000.0\n",
      "TZ is4200.0\n",
      "HRA is4480.0\n",
      "CCA is5600.0\n",
      "MA is14000.0\n",
      "LIC is14000.0\n",
      "NetsalaryforShravanthiis49280.0\n",
      "\n",
      "\n",
      "totalsalaryforYaminiis19000\n",
      "DA is4750.0\n",
      "TZ is2850.0\n",
      "HRA is3040.0\n",
      "CCA is3800.0\n",
      "MA is9500.0\n",
      "LIC is9500.0\n",
      "NetsalaryforYaminiis33440.0\n",
      "\n",
      "\n",
      "totalsalaryforChaitanyais25000\n",
      "DA is6250.0\n",
      "TZ is3750.0\n",
      "HRA is4000.0\n",
      "CCA is5000.0\n",
      "MA is12500.0\n",
      "LIC is12500.0\n",
      "NetsalaryforChaitanyais44000.0\n",
      "\n",
      "\n",
      "totalsalaryforLeela Krishnais26000\n",
      "DA is6500.0\n",
      "TZ is3900.0\n",
      "HRA is4160.0\n",
      "CCA is5200.0\n",
      "MA is13000.0\n",
      "LIC is13000.0\n",
      "NetsalaryforLeela Krishnais45760.0\n",
      "\n",
      "\n",
      "totalsalaryforMahenderis60000\n",
      "DA is15000.0\n",
      "TZ is9000.0\n",
      "HRA is9600.0\n",
      "CCA is12000.0\n",
      "MA is30000.0\n",
      "LIC is30000.0\n",
      "NetsalaryforMahenderis105600.0\n",
      "\n",
      "\n",
      "totalsalaryforYelishetty Shankaris100000\n",
      "DA is25000.0\n",
      "TZ is15000.0\n",
      "HRA is16000.0\n",
      "CCA is20000.0\n",
      "MA is50000.0\n",
      "LIC is50000.0\n",
      "NetsalaryforYelishetty Shankaris176000.0\n",
      "\n",
      "\n",
      "totalsalaryforSwapnais23000\n",
      "DA is5750.0\n",
      "TZ is3450.0\n",
      "HRA is3680.0\n",
      "CCA is4600.0\n",
      "MA is11500.0\n",
      "LIC is11500.0\n",
      "NetsalaryforSwapnais40480.0\n",
      "\n",
      "\n",
      "totalsalaryforNikhilis25000\n",
      "DA is6250.0\n",
      "TZ is3750.0\n",
      "HRA is4000.0\n",
      "CCA is5000.0\n",
      "MA is12500.0\n",
      "LIC is12500.0\n",
      "NetsalaryforNikhilis44000.0\n",
      "\n",
      "\n",
      "totalsalaryforSai Kumaris30000\n",
      "DA is7500.0\n",
      "TZ is4500.0\n",
      "HRA is4800.0\n",
      "CCA is6000.0\n",
      "MA is15000.0\n",
      "LIC is15000.0\n",
      "NetsalaryforSai Kumaris52800.0\n",
      "\n",
      "\n"
     ]
    }
   ],
   "source": [
    "for x in f:\n",
    "    row=x.split(',')\n",
    "    salary=int(row[5])\n",
    "    print(\"totalsalaryfor\"+row[1]+ \"is\"+str(salary))\n",
    "    DA=salary*0.25\n",
    "    print(\"DA is\"+str(DA))\n",
    "    TZ=salary*0.15\n",
    "    print(\"TZ is\"+str(TZ))\n",
    "    HRA=salary*0.16\n",
    "    print(\"HRA is\"+str(HRA))\n",
    "    CCA=salary*0.2\n",
    "    print(\"CCA is\"+str(CCA))\n",
    "    MA=salary*0.5\n",
    "    print(\"MA is\" +str(MA))\n",
    "    LIC=salary*0.5\n",
    "    print(\"LIC is\"+str(LIC))\n",
    "    Netsalary=DA+TZ+HRA+CCA+MA+LIC\n",
    "    print(\"Netsalaryfor\"+row[1]+ \"is\"+str(Netsalary))\n",
    "    print('\\n')"
   ]
  },
  {
   "cell_type": "code",
   "execution_count": null,
   "id": "4ec2c166",
   "metadata": {},
   "outputs": [],
   "source": []
  },
  {
   "cell_type": "code",
   "execution_count": null,
   "id": "4a3bfa3e",
   "metadata": {},
   "outputs": [],
   "source": []
  },
  {
   "cell_type": "code",
   "execution_count": null,
   "id": "64cd7b91",
   "metadata": {},
   "outputs": [],
   "source": []
  },
  {
   "cell_type": "code",
   "execution_count": null,
   "id": "87a287fe",
   "metadata": {},
   "outputs": [],
   "source": []
  }
 ],
 "metadata": {
  "kernelspec": {
   "display_name": "Python 3 (ipykernel)",
   "language": "python",
   "name": "python3"
  },
  "language_info": {
   "codemirror_mode": {
    "name": "ipython",
    "version": 3
   },
   "file_extension": ".py",
   "mimetype": "text/x-python",
   "name": "python",
   "nbconvert_exporter": "python",
   "pygments_lexer": "ipython3",
   "version": "3.11.4"
  }
 },
 "nbformat": 4,
 "nbformat_minor": 5
}
